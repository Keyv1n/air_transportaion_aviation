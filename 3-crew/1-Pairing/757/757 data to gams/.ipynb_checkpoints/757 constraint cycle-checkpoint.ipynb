{
 "cells": [
  {
   "cell_type": "code",
   "execution_count": 8,
   "id": "fdc89d57",
   "metadata": {},
   "outputs": [],
   "source": [
    "import pandas as pd\n",
    "import numpy as np"
   ]
  },
  {
   "cell_type": "code",
   "execution_count": 5,
   "id": "4c187923",
   "metadata": {},
   "outputs": [],
   "source": [
    "routes_df=pd.read_csv(r'757cycle edit.csv')\n",
    "flights_df=pd.read_excel(r'fleet assignnmnet edit.xlsx')"
   ]
  },
  {
   "cell_type": "code",
   "execution_count": 6,
   "id": "1e4a25f8",
   "metadata": {},
   "outputs": [],
   "source": [
    "flights_df.set_index('fleet',inplace=True)\n",
    "flights_df=flights_df.loc[757]\n",
    "# Convert flight information to a dictionary for easy lookup\n",
    "flight_costs = flights_df.set_index('flight')['duration'].to_dict()\n",
    "\n",
    "# Function to calculate total cost for each route\n",
    "def calculate_route_cost(route):\n",
    "    total_cost = 0\n",
    "    for flight_id in route:\n",
    "        total_cost += flight_costs.get(flight_id, 0)\n",
    "    return total_cost\n",
    "\n",
    "# Calculate total cost for each route and add it as a new column in routes_df\n",
    "routes_df['Total'] = routes_df.apply(lambda row: calculate_route_cost(row.dropna().tolist()), axis=1)\n",
    "routes_df.to_csv(\"total.csv\")"
   ]
  },
  {
   "cell_type": "code",
   "execution_count": 7,
   "id": "c5806869",
   "metadata": {},
   "outputs": [],
   "source": [
    "# Convert flight information to a dictionary for easy lookup\n",
    "flight_costs = flights_df.set_index('flight')['duration'].to_dict()\n",
    "\n",
    "# Function to create binary matrix indicating flight coverage by routes\n",
    "def flight_coverage_matrix(route):\n",
    "    coverage = []\n",
    "    for flight_id in flight_costs.keys():\n",
    "        if flight_id in route:\n",
    "            coverage.append(1)\n",
    "        else:\n",
    "            coverage.append(0)\n",
    "    return coverage\n",
    "\n",
    "# Create binary matrix for flight coverage by routes\n",
    "coverage_matrix = routes_df.apply(lambda row: flight_coverage_matrix(row.dropna().tolist()), axis=1)\n",
    "\n",
    "# Convert the binary matrix to a DataFrame\n",
    "a = pd.DataFrame(coverage_matrix.to_list(), columns=flight_costs.keys())\n",
    "a.to_csv(\"param.csv\")"
   ]
  },
  {
   "cell_type": "code",
   "execution_count": null,
   "id": "ec1cf588",
   "metadata": {},
   "outputs": [],
   "source": []
  }
 ],
 "metadata": {
  "kernelspec": {
   "display_name": "Python 3 (ipykernel)",
   "language": "python",
   "name": "python3"
  },
  "language_info": {
   "codemirror_mode": {
    "name": "ipython",
    "version": 3
   },
   "file_extension": ".py",
   "mimetype": "text/x-python",
   "name": "python",
   "nbconvert_exporter": "python",
   "pygments_lexer": "ipython3",
   "version": "3.11.5"
  }
 },
 "nbformat": 4,
 "nbformat_minor": 5
}
