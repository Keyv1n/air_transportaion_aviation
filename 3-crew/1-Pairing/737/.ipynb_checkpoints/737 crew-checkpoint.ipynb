{
 "cells": [
  {
   "cell_type": "code",
   "execution_count": 1,
   "id": "9374cd4b",
   "metadata": {},
   "outputs": [],
   "source": [
    "import pandas as pd\n",
    "import numpy as np\n",
    "import csv\n",
    "import xlsxwriter\n",
    "\n",
    "df=pd.read_excel(r'fleet assignment result.xlsx')\n"
   ]
  },
  {
   "cell_type": "code",
   "execution_count": 2,
   "id": "f57f9520",
   "metadata": {},
   "outputs": [],
   "source": [
    "df['o']=df['origin']\n",
    "df['d']=df['destination']\n",
    "df['o']=df['o'].replace({'JFK':1, 'LAX':2, 'SFO':3, 'ORD':4, 'ATL':5, 'MIA':6, 'BOS':7, 'IAD':8})\n",
    "df['d']=df['d'].replace({'JFK':1, 'LAX':2, 'SFO':3, 'ORD':4, 'ATL':5, 'MIA':6, 'BOS':7, 'IAD':8})"
   ]
  },
  {
   "cell_type": "code",
   "execution_count": 3,
   "id": "76ffdee3",
   "metadata": {
    "scrolled": true
   },
   "outputs": [],
   "source": [
    "#daily combination with min and max duty\n",
    "aa=[]\n",
    "for i in range(42):\n",
    "    if df['fleet'].loc[i]==737:\n",
    "        b=np.zeros(4)\n",
    "        c=df['flight'].loc[i]\n",
    "        b[0]=(c)\n",
    "        aa.append(b)\n",
    "        \n",
    "    else:\n",
    "        continue\n",
    "            \n",
    "    for j in range(42):                                  #        Sit connection   0.16666=10minute  min bitween change a aircraft with coptain            3 =max hour bitween change a aircraft with coptain                                         \n",
    "        if df['d'].loc[i]==df['o'].loc[j] and (df['arrival'].loc[i] + 0.1666) <= df['departure'].loc[j] and df['departure'].loc[j]<=df['arrival'].loc[i]+3 and df['fleet'].loc[j]==737 :\n",
    "            b=np.zeros(4)\n",
    "            c=df['flight'].loc[i]\n",
    "            d=df['flight'].loc[j]\n",
    "            b[0]=(c)\n",
    "            b[1]=(d)\n",
    "\n",
    "            aa.append(b)\n",
    "           \n",
    "        else:\n",
    "            continue\n",
    "        for z in range(42):\n",
    "            if df['d'].loc[j]==df['o'].loc[z] and (df['arrival'].loc[j] + 0.1666) <= df['departure'].loc[z] and df['departure'].loc[z]<=df['arrival'].loc[j]+3 and df['fleet'].loc[z]==737 :\n",
    "                b=np.zeros(4)\n",
    "                c=df['flight'].loc[i]\n",
    "                d=df['flight'].loc[j]\n",
    "                e=df['flight'].loc[z]\n",
    "                b[0]=(c)\n",
    "                b[1]=(d)\n",
    "                b[2]=(e)\n",
    "                aa.append(b)\n",
    "            \n",
    "            else:\n",
    "                continue\n",
    "            for x in range(42):\n",
    "                if df['d'].loc[z]==df['o'].loc[x] and (df['arrival'].loc[z] + 0.1666) <= df['departure'].loc[x] and df['departure'].loc[x]<=df['arrival'].loc[z]+3 and df['fleet'].loc[x]==737 :\n",
    "\n",
    "                    b=np.zeros(4)\n",
    "                    c=df['flight'].loc[i]\n",
    "                    d=df['flight'].loc[j]\n",
    "                    e=df['flight'].loc[z]\n",
    "                    f=df['flight'].loc[x]\n",
    "                    b[0]=(c)\n",
    "                    b[1]=(d)\n",
    "                    b[2]=(e)\n",
    "                    b[3]=(f)\n",
    "                    aa.append(b)\n",
    "                else:\n",
    "                    continue\n",
    "aa\n",
    "a=[]  #Duty  Federal Aviation Regulations (FAR) w, airline pilots cannot fly more than 8 hours in a 24-hour period should not exceed 8 hours of flight time\n",
    "for i in range(len(aa)):\n",
    "    h=0\n",
    "    for j in range (len(aa[i])):\n",
    "        c=(aa[i][j]-101)\n",
    "        if c<0:\n",
    "            continue\n",
    "        else:\n",
    "            h=h+df['duration'].loc[c]\n",
    "    if h<=8:\n",
    "         a.append(aa[i])"
   ]
  },
  {
   "cell_type": "code",
   "execution_count": 4,
   "id": "7dc9ee52",
   "metadata": {},
   "outputs": [
    {
     "data": {
      "text/plain": [
       "array([0., 1., 1., 1., 2., 0., 1., 0., 0., 1., 1., 1., 2., 0., 0., 1., 2.,\n",
       "       0., 1., 1., 0., 1., 1., 0., 1., 1., 0., 1., 0., 1., 2., 1., 0., 1.,\n",
       "       2., 0., 1., 2., 1., 1., 2., 0., 1., 0., 1., 1., 1., 0., 0., 0., 0.,\n",
       "       0., 0., 1., 0., 1., 2., 2., 0., 0., 1., 2., 2., 0., 0., 1., 2., 3.,\n",
       "       0., 0., 1., 2., 3., 2., 2., 3., 0., 1., 2., 0., 1., 2., 2., 2.])"
      ]
     },
     "execution_count": 4,
     "metadata": {},
     "output_type": "execute_result"
    }
   ],
   "source": [
    "#coding each combination invovle how man flight\n",
    "b=np.zeros(len(a))\n",
    "for i in range(len(a)):\n",
    "    for j in range(4):\n",
    "        if a[i][j]>0:\n",
    "            b[i]=b[i]+1\n",
    "for i in range(len(a)):\n",
    "    b[i]=b[i]-1\n",
    "len(b)\n",
    "b"
   ]
  },
  {
   "cell_type": "code",
   "execution_count": 5,
   "id": "a49bd95e",
   "metadata": {
    "scrolled": true
   },
   "outputs": [],
   "source": [
    "#A maximum length of two days is allowed for a routing\n",
    "#two days routing duty\n",
    "c=[]\n",
    "for i in range(len(a)):   #two days with     cycle1           cycle2\n",
    "    c0=a[i][0]                                #[c0,.....c1]    [c2,.....c3]\n",
    "    f= int(b[i])\n",
    "    c1=a[i][f]\n",
    "    for j in range(len(a)):\n",
    "        c2=a[j][0]\n",
    "        f=int(b[j])\n",
    "        c3=a[j][f]\n",
    "        if df['d'].loc[(c1-101)]==df['o'].loc[(c2-101)]  and   df['d'].loc[(c3-101)]==df['o'].loc[(c0-101)] and df['d'].loc[(c3-101)] ==1 and df['d'].loc[(c1-101)] !=1   :\n",
    "            d=np.insert(a[i],4,a[j])\n",
    "            c.append(d)\n",
    "        elif df['d'].loc[(c1-101)]==df['o'].loc[(c2-101)]  and   df['d'].loc[(c3-101)]==df['o'].loc[(c0-101)] and df['d'].loc[(c3-101)] ==1 and df['d'].loc[(c1-101)] ==1   :\n",
    "            d=np.insert(a[i],4,a[j])\n",
    "            c.append(d)     \n"
   ]
  },
  {
   "cell_type": "code",
   "execution_count": 6,
   "id": "2f4cf10c",
   "metadata": {},
   "outputs": [],
   "source": [
    "file = open('737crew.csv', 'w+', newline ='') \n",
    "with file:     \n",
    "    write = csv.writer(file) \n",
    "    write.writerows(c)"
   ]
  },
  {
   "cell_type": "code",
   "execution_count": 7,
   "id": "3ffd5e7c",
   "metadata": {},
   "outputs": [],
   "source": [
    "#find cost  designated the value 1 for one-day, and 3 for two-day pairings.\n",
    "\n",
    "a=[]\n",
    "for i in range(len(c)):\n",
    "    j=0\n",
    "    c1=c[i][0]-101\n",
    "    if df['o'].loc[c1]==1:\n",
    "        j=j+2\n",
    "    c2=c[i][4]-101\n",
    "    if df['o'].loc[c2]!=1:\n",
    "            j=j+1\n",
    "    \n",
    "    \n",
    "    h=0\n",
    " \n",
    "    b=[]\n",
    "    b.append('x'+str(i+1))\n",
    "    b.append((j))\n",
    "    a.append(b)"
   ]
  },
  {
   "cell_type": "code",
   "execution_count": 8,
   "id": "f28d09b7",
   "metadata": {},
   "outputs": [],
   "source": [
    "file = open('cost.csv', 'w+', newline ='') \n",
    "with file:     \n",
    "    write = csv.writer(file) \n",
    "    write.writerows(a)\n"
   ]
  },
  {
   "cell_type": "code",
   "execution_count": null,
   "id": "5db73de6",
   "metadata": {},
   "outputs": [],
   "source": []
  }
 ],
 "metadata": {
  "kernelspec": {
   "display_name": "Python 3 (ipykernel)",
   "language": "python",
   "name": "python3"
  },
  "language_info": {
   "codemirror_mode": {
    "name": "ipython",
    "version": 3
   },
   "file_extension": ".py",
   "mimetype": "text/x-python",
   "name": "python",
   "nbconvert_exporter": "python",
   "pygments_lexer": "ipython3",
   "version": "3.11.5"
  }
 },
 "nbformat": 4,
 "nbformat_minor": 5
}
